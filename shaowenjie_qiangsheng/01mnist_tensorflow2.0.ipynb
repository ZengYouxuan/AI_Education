{
 "cells": [
  {
   "cell_type": "code",
   "execution_count": 1,
   "metadata": {},
   "outputs": [
    {
     "name": "stdout",
     "output_type": "stream",
     "text": [
      "WARNING:tensorflow:From C:\\Users\\shaow\\Anaconda3\\envs\\tensorflow\\lib\\site-packages\\tensorflow\\python\\compat\\compat.py:175: disable_resource_variables (from tensorflow.python.ops.variable_scope) is deprecated and will be removed in a future version.\n",
      "Instructions for updating:\n",
      "non-resource variables are not supported in the long term\n",
      "x_train: (60000, 784)\n",
      "x_test:  (10000, 784)\n",
      "y_train: (60000,)\n",
      "y_test:  (10000,)\n"
     ]
    }
   ],
   "source": [
    "#coding : utf8\n",
    "\n",
    "# import tensorflow as tf\n",
    "# from tensorflow.examples.tutorials.mnist import input_data # tf1.14 读数据集\n",
    "# data = input_data.read_data_sets('./MNIST_data', one_hot= True) #读取数据\n",
    "\n",
    "import tensorflow.compat.v1 as tf\n",
    "tf.disable_v2_behavior()\n",
    "mnist = tf.keras.datasets.mnist # tf2.0 读取数据\n",
    "\n",
    "\n",
    "(x_train, y_train), (x_test, y_test) = mnist.load_data()\n",
    "x_train, x_test = x_train / 255.0, x_test / 255.0\n",
    "\n",
    "x_train = x_train.reshape((60000, 28*28))\n",
    "x_test = x_test.reshape((10000, 28*28))\n",
    "import warnings\n",
    "warnings.filterwarnings(\"ignore\")\n",
    "import os\n",
    "\n",
    "'''\n",
    "1.数据\n",
    "读取数据,划分训练集测试集labels,features\n",
    "'''\n",
    "\n",
    "\n",
    "print('x_train:',x_train.shape)\n",
    "print('x_test: ',x_test.shape)\n",
    "print('y_train:',y_train.shape)\n",
    "print('y_test: ',y_test.shape)"
   ]
  },
  {
   "cell_type": "code",
   "execution_count": 2,
   "metadata": {},
   "outputs": [
    {
     "data": {
      "text/plain": [
       "'1.13.1'"
      ]
     },
     "execution_count": 2,
     "metadata": {},
     "output_type": "execute_result"
    }
   ],
   "source": [
    "import tensorflow\n",
    "\n",
    "tensorflow.__version__"
   ]
  },
  {
   "cell_type": "code",
   "execution_count": 3,
   "metadata": {},
   "outputs": [
    {
     "name": "stdout",
     "output_type": "stream",
     "text": [
      "<class 'numpy.ndarray'>\n",
      "(784,)\n",
      "(28, 28)\n"
     ]
    },
    {
     "data": {
      "text/plain": [
       "Text(0.5, 1.0, 'The img of newData')"
      ]
     },
     "execution_count": 3,
     "metadata": {},
     "output_type": "execute_result"
    },
    {
     "data": {
      "image/png": "[encoded data removed]",
      "text/plain": [
       "<Figure size 432x288 with 1 Axes>"
      ]
     },
     "metadata": {
      "needs_background": "light"
     },
     "output_type": "display_data"
    }
   ],
   "source": [
    "\n",
    "'''\n",
    "have a look at the img of the first vector of x_train data\n",
    "'''\n",
    "\n",
    "img_data = x_train[0]\n",
    "print(type(img_data))\n",
    "# print(img_data)\n",
    "print(img_data.shape)\n",
    "import numpy as np\n",
    "newData = np.reshape(img_data,(28,28))\n",
    "print(newData.shape)\n",
    "\n",
    "\n",
    "import matplotlib.pyplot as plt\n",
    "%matplotlib inline\n",
    "plt.imshow(newData)\n",
    "plt.title(\"The img of newData\")"
   ]
  },
  {
   "cell_type": "code",
   "execution_count": 4,
   "metadata": {
    "scrolled": true
   },
   "outputs": [
    {
     "name": "stdout",
     "output_type": "stream",
     "text": [
      "(60000, 784)\n",
      "(60000,)\n",
      "[0. 0. 0. 0. 0. 0. 0. 0. 0. 1.]\n"
     ]
    },
    {
     "name": "stderr",
     "output_type": "stream",
     "text": [
      "Using TensorFlow backend.\n"
     ]
    },
    {
     "data": {
      "text/plain": [
       "(60000, 10)"
      ]
     },
     "execution_count": 4,
     "metadata": {},
     "output_type": "execute_result"
    }
   ],
   "source": [
    "# 选取部分数据训练与测试\n",
    "# 打乱数据\n",
    "index=np.arange(60000)\n",
    "np.random.shuffle(index)\n",
    "# print(index[0:20])\n",
    "\n",
    "train_part_x, train_part_y = x_train[index,:], y_train[index]\n",
    "test_part_x, test_part_y = x_test[:2000], y_test[:2000]\n",
    "print(train_part_x.shape)\n",
    "print(train_part_y.shape)\n",
    "\n",
    "# 处理标签（对标签进行分类编码）\n",
    "from keras.utils import to_categorical\n",
    "train_part_y = to_categorical(train_part_y)\n",
    "test_part_y = to_categorical(test_part_y)\n",
    "print(train_part_y[0])\n",
    "train_part_y.shape"
   ]
  },
  {
   "cell_type": "code",
   "execution_count": 54,
   "metadata": {},
   "outputs": [],
   "source": [
    " \n",
    "'''\n",
    "2.参数\n",
    "本文使用两层隐藏层,各层neuron个数分别为:\n",
    "input_layer: 28*28 (features of train_x or test_x)\n",
    "hidden_layer1: 256\n",
    "hidden_layer2: 128\n",
    "output_layer: 10\n",
    "'''\n",
    "\n",
    "n_input = 28 * 28\n",
    "n_hidden_layer_1 = 128\n",
    "n_hidden_layer_2 = 64\n",
    "n_output_layer = 10\n",
    "\n",
    "x = tf.placeholder(tf.float32, [None, n_input])\n",
    "y = tf.placeholder(tf.float32, [None, n_output_layer])\n",
    "\n",
    "# 生成指定shape的随机张量\n",
    "w = {\n",
    "    'w1': tf.Variable(tf.random_normal([n_input, n_hidden_layer_1],seed=10001),dtype= tf.float32),\n",
    "    'w2': tf.Variable(tf.random_normal([n_hidden_layer_1, n_hidden_layer_2],seed=10001),dtype= tf.float32),\n",
    "    'w_out': tf.Variable(tf.random_normal([n_hidden_layer_2, n_output_layer],seed=10001),dtype= tf.float32)\n",
    "}\n",
    "# 生成全零的偏置张量\n",
    "b = {\n",
    "    'b1': tf.Variable(tf.zeros([1,n_hidden_layer_1]), dtype= tf.float32),\n",
    "    'b2': tf.Variable(tf.zeros([1,n_hidden_layer_2]), dtype= tf.float32),\n",
    "    'b_out': tf.Variable(tf.zeros([1,n_output_layer]), dtype= tf.float32)\n",
    "}\n"
   ]
  },
  {
   "cell_type": "code",
   "execution_count": 55,
   "metadata": {},
   "outputs": [],
   "source": [
    " \n",
    "'''\n",
    "3.前向传播\n",
    "'''\n",
    " \n",
    "def forward_propagation(_x, _w, _b):\n",
    "    layer1 = tf.nn.relu(tf.add(tf.matmul(_x, _w['w1']), _b['b1']))\n",
    "    layer2 = tf.nn.relu(tf.add(tf.matmul(layer1, _w['w2']), _b['b2']))\n",
    "    return tf.add(tf.matmul(layer2, _w['w_out']), _b['b_out'])\n",
    " "
   ]
  },
  {
   "cell_type": "code",
   "execution_count": 56,
   "metadata": {},
   "outputs": [],
   "source": [
    "\n",
    "'''\n",
    "4.损失函数\n",
    "'''\n",
    "\n",
    "learn_rate = 0.001\n",
    "y_predict = forward_propagation(x, w, b)\n",
    "loss = tf.reduce_mean(tf.nn.softmax_cross_entropy_with_logits(logits= y_predict, labels= y))\n",
    "optm = tf.train.GradientDescentOptimizer(learn_rate).minimize(loss)\n"
   ]
  },
  {
   "cell_type": "code",
   "execution_count": 57,
   "metadata": {},
   "outputs": [],
   "source": [
    " \n",
    "'''\n",
    "5.评价\n",
    "'''\n",
    "result = tf.equal(tf.math.argmax(y_predict, 1), tf.math.argmax(y, 1))\n",
    "# tf.cast改变张量类型\n",
    "acc = tf.reduce_mean(tf.cast(result, dtype=tf.float32))\n"
   ]
  },
  {
   "cell_type": "code",
   "execution_count": 58,
   "metadata": {
    "scrolled": false
   },
   "outputs": [
    {
     "name": "stdout",
     "output_type": "stream",
     "text": [
      "epoch:  1, 损失值:88.514, 分类准确率:0.568\n",
      "epoch:  6, 损失值: 9.522, 分类准确率:0.688\n",
      "epoch: 11, 损失值: 4.023, 分类准确率:0.685\n",
      "epoch: 16, 损失值: 1.961, 分类准确率:0.668\n",
      "epoch: 21, 损失值: 1.329, 分类准确率:0.643\n",
      "epoch: 26, 损失值: 1.124, 分类准确率:0.646\n",
      "epoch: 31, 损失值: 1.017, 分类准确率:0.660\n",
      "epoch: 36, 损失值: 0.945, 分类准确率:0.666\n",
      "epoch: 41, 损失值: 0.890, 分类准确率:0.679\n",
      "epoch: 46, 损失值: 0.846, 分类准确率:0.689\n",
      "epoch: 51, 损失值: 0.808, 分类准确率:0.695\n",
      "epoch: 56, 损失值: 0.776, 分类准确率:0.704\n",
      "epoch: 61, 损失值: 0.746, 分类准确率:0.714\n",
      "epoch: 66, 损失值: 0.719, 分类准确率:0.720\n",
      "epoch: 71, 损失值: 0.696, 分类准确率:0.727\n",
      "epoch: 76, 损失值: 0.676, 分类准确率:0.732\n",
      "epoch: 81, 损失值: 0.659, 分类准确率:0.737\n",
      "epoch: 86, 损失值: 0.645, 分类准确率:0.743\n",
      "epoch: 91, 损失值: 0.632, 分类准确率:0.746\n",
      "epoch: 96, 损失值: 0.620, 分类准确率:0.748\n",
      "epoch:100, 损失值: 0.611, 分类准确率:0.751\n"
     ]
    }
   ],
   "source": [
    "\n",
    "'''\n",
    "6.训练和保存\n",
    "'''\n",
    "epochs = 100\n",
    "batch_size = 128\n",
    "init = tf.global_variables_initializer()\n",
    "\n",
    "save_path = './000/'\n",
    "if not save_path:\n",
    "    os.makedir(save_path)\n",
    "saver = tf.train.Saver(max_to_keep=3)\n",
    "with tf.Session() as sess:\n",
    "    sess.run(init)\n",
    "    for i in range(epochs):\n",
    "        cost = count = 0.0\n",
    "        for batch_index in range(0, train_part_y.shape[0], batch_size):\n",
    "            count += 1\n",
    "            feed = {x: train_part_x[batch_index: batch_index + batch_size], y: train_part_y[batch_index: batch_index + batch_size]}\n",
    "            sess.run(optm, feed_dict= feed)\n",
    "            cost += sess.run(loss, feed_dict= feed)\n",
    "        cost /= count\n",
    "        # 测试集精度\n",
    "        feed_test = {x: test_part_x, y: test_part_y}\n",
    "        accuracy = sess.run(acc, feed_dict= feed_test)\n",
    "        # 保存模型\n",
    "        # # saver.save(sess, os.path.join(save_path,global_step = i+1))\n",
    "        saver.save(sess, save_path, global_step = i+1)\n",
    "        if i% 5 == 0 or i+1==epochs:\n",
    "            print('epoch:{:>3d}, 损失值:{:>6.3f}, 分类准确率:{:.3f}'.format(i+1, cost, accuracy))"
   ]
  },
  {
   "cell_type": "code",
   "execution_count": 75,
   "metadata": {
    "scrolled": true
   },
   "outputs": [
    {
     "name": "stdout",
     "output_type": "stream",
     "text": [
      "[0. 0. 0. 0. 0. 0. 0. 0. 1. 0.]\n"
     ]
    },
    {
     "data": {
      "image/png": "[encoded data removed]",
      "text/plain": [
       "<Figure size 432x288 with 1 Axes>"
      ]
     },
     "metadata": {
      "needs_background": "light"
     },
     "output_type": "display_data"
    }
   ],
   "source": [
    "i = 5\n",
    "img = np.reshape(train_part_x[i],(28,28)) \n",
    "plt.imshow(img)\n",
    "print(train_part_y[i])"
   ]
  },
  {
   "cell_type": "code",
   "execution_count": null,
   "metadata": {},
   "outputs": [],
   "source": []
  }
 ],
 "metadata": {
  "kernelspec": {
   "display_name": "Python 3",
   "language": "python",
   "name": "python3"
  },
  "language_info": {
   "codemirror_mode": {
    "name": "ipython",
    "version": 3
   },
   "file_extension": ".py",
   "mimetype": "text/x-python",
   "name": "python",
   "nbconvert_exporter": "python",
   "pygments_lexer": "ipython3",
   "version": "3.7.3"
  }
 },
 "nbformat": 4,
 "nbformat_minor": 2
}
