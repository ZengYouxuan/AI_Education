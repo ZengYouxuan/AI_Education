{
 "cells": [
  {
   "cell_type": "code",
   "execution_count": 1,
   "metadata": {},
   "outputs": [
    {
     "name": "stderr",
     "output_type": "stream",
     "text": [
      "Using TensorFlow backend.\n"
     ]
    },
    {
     "name": "stdout",
     "output_type": "stream",
     "text": [
      "(50000, 28, 28, 1)\n",
      "(10000, 28, 28, 1)\n",
      "(10000,)\n"
     ]
    }
   ],
   "source": [
    "from keras.datasets import mnist\n",
    "from keras.utils import to_categorical\n",
    "\n",
    "(train_images, train_labels), (test_images, test_labels) = mnist.load_data()\n",
    "# 提取数据进行训练和测试\n",
    "# 训练数据\n",
    "train_images_part = train_images[:50000].reshape((50000, 28, 28, 1))\n",
    "train_images_part = train_images_part.astype('float32') / 255\n",
    "train_labels_part = train_labels[:50000]\n",
    "print(train_images_part.shape)\n",
    "# 验证数据\n",
    "val_x = train_images[-10000:].reshape((10000, 28, 28, 1))\n",
    "val_x = val_x.astype('float32') / 255\n",
    "val_y = train_labels[-10000:]\n",
    "print(val_x.shape)\n",
    "# 测试数据\n",
    "test_images_part = test_images[:10000].reshape((10000, 28 , 28, 1))\n",
    "test_images_part = test_images_part.astype('float32') / 255\n",
    "test_labels_part = test_labels[:10000]\n",
    "print(test_labels_part.shape) \n"
   ]
  },
  {
   "cell_type": "code",
   "execution_count": 2,
   "metadata": {},
   "outputs": [
    {
     "name": "stdout",
     "output_type": "stream",
     "text": [
      "(10000, 10)\n"
     ]
    },
    {
     "data": {
      "text/plain": [
       "(10000,)"
      ]
     },
     "execution_count": 2,
     "metadata": {},
     "output_type": "execute_result"
    }
   ],
   "source": [
    "# 处理标签（对标签进行分类编码）\n",
    "from keras.utils import to_categorical\n",
    "train_labels_part = to_categorical(train_labels_part)\n",
    "val_y = to_categorical(val_y)\n",
    "print(val_y.shape)\n",
    "test_labels_part = to_categorical(test_labels_part)\n",
    "test_labels.shape"
   ]
  },
  {
   "cell_type": "code",
   "execution_count": 3,
   "metadata": {},
   "outputs": [
    {
     "data": {
      "text/plain": [
       "'2.3.1'"
      ]
     },
     "execution_count": 3,
     "metadata": {},
     "output_type": "execute_result"
    }
   ],
   "source": [
    "import keras\n",
    "keras.__version__"
   ]
  },
  {
   "cell_type": "code",
   "execution_count": 3,
   "metadata": {
    "scrolled": false
   },
   "outputs": [
    {
     "name": "stdout",
     "output_type": "stream",
     "text": [
      "WARNING:tensorflow:From C:\\Users\\shaow\\Anaconda3\\envs\\tensorflow\\lib\\site-packages\\tensorflow\\python\\ops\\resource_variable_ops.py:435: colocate_with (from tensorflow.python.framework.ops) is deprecated and will be removed in a future version.\n",
      "Instructions for updating:\n",
      "Colocations handled automatically by placer.\n",
      "Model: \"sequential_1\"\n",
      "_________________________________________________________________\n",
      "Layer (type)                 Output Shape              Param #   \n",
      "=================================================================\n",
      "conv2d_1 (Conv2D)            (None, 28, 28, 32)        320       \n",
      "_________________________________________________________________\n",
      "conv2d_2 (Conv2D)            (None, 28, 28, 64)        18496     \n",
      "_________________________________________________________________\n",
      "max_pooling2d_1 (MaxPooling2 (None, 14, 14, 64)        0         \n",
      "_________________________________________________________________\n",
      "flatten_1 (Flatten)          (None, 12544)             0         \n",
      "_________________________________________________________________\n",
      "dense_1 (Dense)              (None, 32)                401440    \n",
      "_________________________________________________________________\n",
      "dropout_1 (Dropout)          (None, 32)                0         \n",
      "_________________________________________________________________\n",
      "dense_2 (Dense)              (None, 10)                330       \n",
      "=================================================================\n",
      "Total params: 420,586\n",
      "Trainable params: 420,586\n",
      "Non-trainable params: 0\n",
      "_________________________________________________________________\n"
     ]
    }
   ],
   "source": [
    "from keras.models import Sequential\n",
    "from keras.layers import Conv2D, MaxPooling2D, Flatten, Dropout, Dense, GlobalAveragePooling2D\n",
    "from keras.losses import categorical_crossentropy\n",
    "from keras.optimizers import Adam,SGD\n",
    "\n",
    "model = Sequential()\n",
    "model.add(Conv2D(32, (3,3), padding = 'same',activation='relu', input_shape=[28, 28, 1]))\n",
    "model.add(Conv2D(64, (3,3), padding = 'same',activation='relu'))\n",
    "model.add(MaxPooling2D(pool_size=(2,2)))\n",
    "model.add(Flatten())\n",
    "model.add(Dense(32, activation='relu'))\n",
    "model.add(Dropout(0.4))\n",
    "model.add(Dense(10, activation='softmax'))\n",
    "\n",
    "model.compile(loss='categorical_crossentropy',\n",
    "             optimizer=Adam(learning_rate = 0.001),\n",
    "             metrics=['accuracy'])\n",
    "\n",
    "model.summary()"
   ]
  },
  {
   "cell_type": "code",
   "execution_count": 5,
   "metadata": {},
   "outputs": [
    {
     "name": "stdout",
     "output_type": "stream",
     "text": [
      "WARNING:tensorflow:From C:\\Users\\shaow\\Anaconda3\\envs\\tensorflow\\lib\\site-packages\\tensorflow\\python\\ops\\math_ops.py:3066: to_int32 (from tensorflow.python.ops.math_ops) is deprecated and will be removed in a future version.\n",
      "Instructions for updating:\n",
      "Use tf.cast instead.\n",
      "Train on 50000 samples, validate on 10000 samples\n",
      "Epoch 1/10\n",
      "50000/50000 [==============================] - 16s 317us/step - loss: 0.4509 - accuracy: 0.8584 - val_loss: 0.0843 - val_accuracy: 0.9763\n",
      "Epoch 2/10\n",
      "50000/50000 [==============================] - 12s 238us/step - loss: 0.1863 - accuracy: 0.9404 - val_loss: 0.0620 - val_accuracy: 0.9829\n",
      "Epoch 3/10\n",
      "50000/50000 [==============================] - 12s 249us/step - loss: 0.1462 - accuracy: 0.9536 - val_loss: 0.0558 - val_accuracy: 0.9860\n",
      "Epoch 4/10\n",
      "50000/50000 [==============================] - 12s 242us/step - loss: 0.1216 - accuracy: 0.9610 - val_loss: 0.0479 - val_accuracy: 0.9873\n",
      "Epoch 5/10\n",
      "50000/50000 [==============================] - 12s 239us/step - loss: 0.1064 - accuracy: 0.9648 - val_loss: 0.0491 - val_accuracy: 0.9869\n",
      "Epoch 6/10\n",
      "50000/50000 [==============================] - 12s 241us/step - loss: 0.0986 - accuracy: 0.9669 - val_loss: 0.0500 - val_accuracy: 0.9861\n",
      "Epoch 7/10\n",
      "50000/50000 [==============================] - 12s 248us/step - loss: 0.0906 - accuracy: 0.9691 - val_loss: 0.0531 - val_accuracy: 0.9875\n",
      "Epoch 8/10\n",
      "50000/50000 [==============================] - 12s 241us/step - loss: 0.0821 - accuracy: 0.9717 - val_loss: 0.0491 - val_accuracy: 0.9878\n",
      "Epoch 9/10\n",
      "50000/50000 [==============================] - 12s 241us/step - loss: 0.0744 - accuracy: 0.9733 - val_loss: 0.0455 - val_accuracy: 0.9887\n",
      "Epoch 10/10\n",
      "50000/50000 [==============================] - 12s 243us/step - loss: 0.0725 - accuracy: 0.9729 - val_loss: 0.0460 - val_accuracy: 0.9890\n",
      "10000/10000 [==============================] - 2s 181us/step\n",
      "test_loss:0.038996047384049055, test_acc:0.9882000088691711\n"
     ]
    }
   ],
   "source": [
    "batch_size = 128\n",
    "epochs = 10\n",
    "history = model.fit(train_images_part, \n",
    "                    train_labels_part, \n",
    "                    batch_size = batch_size, \n",
    "                    epochs=epochs, \n",
    "                    validation_data=(val_x, val_y))\n",
    "\n",
    "test_loss, test_acc = model.evaluate(test_images_part, test_labels_part)\n",
    "print('test_loss:{}, test_acc:{}'.format(test_loss, test_acc))"
   ]
  },
  {
   "cell_type": "code",
   "execution_count": 6,
   "metadata": {},
   "outputs": [],
   "source": [
    "# 保存模型\n",
    "# model.save('mnist_CNN.h5')"
   ]
  },
  {
   "cell_type": "code",
   "execution_count": 11,
   "metadata": {},
   "outputs": [
    {
     "data": {
      "image/png": "[encoded data removed]",
      "text/plain": [
       "<Figure size 432x288 with 1 Axes>"
      ]
     },
     "metadata": {
      "needs_background": "light"
     },
     "output_type": "display_data"
    }
   ],
   "source": [
    "import matplotlib.pyplot as plt\n",
    "history_dict = history.history\n",
    "loss_values = history_dict['loss']\n",
    "val_loss_values = history_dict['val_loss']\n",
    "epochs = range(1, len(loss_values) + 1)\n",
    "plt.plot(epochs, loss_values, 'bo', label='Training loss')\n",
    "plt.plot(epochs, val_loss_values, 'b', label='Validation loss')\n",
    "plt.title('Training and validation loss')\n",
    "plt.xlabel('Epochs')\n",
    "plt.ylabel('Loss')\n",
    "plt.legend()\n",
    "plt.show()"
   ]
  },
  {
   "cell_type": "markdown",
   "metadata": {},
   "source": [
    "### model2"
   ]
  },
  {
   "cell_type": "code",
   "execution_count": 5,
   "metadata": {
    "scrolled": false
   },
   "outputs": [
    {
     "name": "stdout",
     "output_type": "stream",
     "text": [
      "Model: \"sequential_3\"\n",
      "_________________________________________________________________\n",
      "Layer (type)                 Output Shape              Param #   \n",
      "=================================================================\n",
      "conv2d_8 (Conv2D)            (None, 28, 28, 32)        320       \n",
      "_________________________________________________________________\n",
      "conv2d_9 (Conv2D)            (None, 28, 28, 64)        18496     \n",
      "_________________________________________________________________\n",
      "max_pooling2d_4 (MaxPooling2 (None, 14, 14, 64)        0         \n",
      "_________________________________________________________________\n",
      "conv2d_10 (Conv2D)           (None, 12, 12, 64)        36928     \n",
      "_________________________________________________________________\n",
      "conv2d_11 (Conv2D)           (None, 12, 12, 128)       73856     \n",
      "_________________________________________________________________\n",
      "max_pooling2d_5 (MaxPooling2 (None, 6, 6, 128)         0         \n",
      "=================================================================\n",
      "Total params: 129,600\n",
      "Trainable params: 129,600\n",
      "Non-trainable params: 0\n",
      "_________________________________________________________________\n"
     ]
    }
   ],
   "source": [
    "from keras.layers import BatchNormalization,GlobalAveragePooling2D\n",
    "model2 = Sequential()\n",
    "model2.add(Conv2D(32, (3,3), padding = 'same', activation='relu', input_shape=[28, 28, 1]))\n",
    "# model2.add(BatchNormalization())\n",
    "model2.add(Conv2D(64, (3,3),padding = 'same', activation='relu'))\n",
    "# model2.add(BatchNormalization())\n",
    "model2.add(MaxPooling2D(pool_size=(2,2)))\n",
    "\n",
    "model2.add(Conv2D(64, (3,3),activation='relu'))\n",
    "model2.add(BatchNormalization())\n",
    "model2.add(Conv2D(128, (3,3),padding = 'same', activation='relu'))\n",
    "model2.add(BatchNormalization())\n",
    "model2.add(MaxPooling2D(pool_size=(2,2)))\n",
    "# model2.add(Conv2D(128, (3,3), activation='relu'))\n",
    "\n",
    "# model2.add(GlobalAveragePooling2D())\n",
    "# model2.add(Flatten())\n",
    "# model2.add(Dense(64, activation='relu'))\n",
    "# model2.add(Dropout(0.4))\n",
    "# model2.add(Dense(10, activation='softmax'))\n",
    "\n",
    "model2.compile(loss='categorical_crossentropy',\n",
    "             optimizer=Adam(learning_rate = 0.005),\n",
    "             metrics=['accuracy'])\n",
    "\n",
    "model2.summary()"
   ]
  },
  {
   "cell_type": "code",
   "execution_count": 18,
   "metadata": {},
   "outputs": [
    {
     "name": "stdout",
     "output_type": "stream",
     "text": [
      "Train on 50000 samples, validate on 10000 samples\n",
      "Epoch 1/10\n",
      "50000/50000 [==============================] - 22s 444us/step - loss: 0.6388 - accuracy: 0.7723 - val_loss: 0.0722 - val_accuracy: 0.9766\n",
      "Epoch 2/10\n",
      "50000/50000 [==============================] - 22s 435us/step - loss: 0.0738 - accuracy: 0.9769 - val_loss: 0.0605 - val_accuracy: 0.9833\n",
      "Epoch 3/10\n",
      "50000/50000 [==============================] - 19s 375us/step - loss: 0.0453 - accuracy: 0.9862 - val_loss: 0.0432 - val_accuracy: 0.9879\n",
      "Epoch 4/10\n",
      "50000/50000 [==============================] - 18s 358us/step - loss: 0.0379 - accuracy: 0.9881 - val_loss: 0.0440 - val_accuracy: 0.9866\n",
      "Epoch 5/10\n",
      "50000/50000 [==============================] - 18s 360us/step - loss: 0.0300 - accuracy: 0.9904 - val_loss: 0.0418 - val_accuracy: 0.9882\n",
      "Epoch 6/10\n",
      "50000/50000 [==============================] - 20s 405us/step - loss: 0.0258 - accuracy: 0.9922 - val_loss: 0.0379 - val_accuracy: 0.9891\n",
      "Epoch 7/10\n",
      "50000/50000 [==============================] - 22s 440us/step - loss: 0.0216 - accuracy: 0.9928 - val_loss: 0.0374 - val_accuracy: 0.9903\n",
      "Epoch 8/10\n",
      "50000/50000 [==============================] - 18s 369us/step - loss: 0.0197 - accuracy: 0.9937 - val_loss: 0.0338 - val_accuracy: 0.9915\n",
      "Epoch 9/10\n",
      "50000/50000 [==============================] - 21s 413us/step - loss: 0.0158 - accuracy: 0.9946 - val_loss: 0.0325 - val_accuracy: 0.9901\n",
      "Epoch 10/10\n",
      "21632/50000 [===========>..................] - ETA: 12s - loss: 0.0140 - accuracy: 0.9952"
     ]
    },
    {
     "ename": "KeyboardInterrupt",
     "evalue": "",
     "output_type": "error",
     "traceback": [
      "\u001b[1;31m---------------------------------------------------------------------------\u001b[0m",
      "\u001b[1;31mKeyboardInterrupt\u001b[0m                         Traceback (most recent call last)",
      "\u001b[1;32m<ipython-input-18-ed0387127d91>\u001b[0m in \u001b[0;36m<module>\u001b[1;34m\u001b[0m\n\u001b[0;32m      5\u001b[0m                     \u001b[0mbatch_size\u001b[0m \u001b[1;33m=\u001b[0m \u001b[0mbatch_size\u001b[0m\u001b[1;33m,\u001b[0m\u001b[1;33m\u001b[0m\u001b[1;33m\u001b[0m\u001b[0m\n\u001b[0;32m      6\u001b[0m                     \u001b[0mepochs\u001b[0m\u001b[1;33m=\u001b[0m\u001b[0mepochs\u001b[0m\u001b[1;33m,\u001b[0m\u001b[1;33m\u001b[0m\u001b[1;33m\u001b[0m\u001b[0m\n\u001b[1;32m----> 7\u001b[1;33m                     validation_data=(val_x, val_y))\n\u001b[0m\u001b[0;32m      8\u001b[0m \u001b[1;33m\u001b[0m\u001b[0m\n\u001b[0;32m      9\u001b[0m \u001b[0mtest_loss\u001b[0m\u001b[1;33m,\u001b[0m \u001b[0mtest_acc\u001b[0m \u001b[1;33m=\u001b[0m \u001b[0mmodel2\u001b[0m\u001b[1;33m.\u001b[0m\u001b[0mevaluate\u001b[0m\u001b[1;33m(\u001b[0m\u001b[0mtest_images_part\u001b[0m\u001b[1;33m,\u001b[0m \u001b[0mtest_labels_part\u001b[0m\u001b[1;33m)\u001b[0m\u001b[1;33m\u001b[0m\u001b[1;33m\u001b[0m\u001b[0m\n",
      "\u001b[1;32m~\\Anaconda3\\envs\\tensorflow\\lib\\site-packages\\keras\\engine\\training.py\u001b[0m in \u001b[0;36mfit\u001b[1;34m(self, x, y, batch_size, epochs, verbose, callbacks, validation_split, validation_data, shuffle, class_weight, sample_weight, initial_epoch, steps_per_epoch, validation_steps, validation_freq, max_queue_size, workers, use_multiprocessing, **kwargs)\u001b[0m\n\u001b[0;32m   1237\u001b[0m                                         \u001b[0msteps_per_epoch\u001b[0m\u001b[1;33m=\u001b[0m\u001b[0msteps_per_epoch\u001b[0m\u001b[1;33m,\u001b[0m\u001b[1;33m\u001b[0m\u001b[1;33m\u001b[0m\u001b[0m\n\u001b[0;32m   1238\u001b[0m                                         \u001b[0mvalidation_steps\u001b[0m\u001b[1;33m=\u001b[0m\u001b[0mvalidation_steps\u001b[0m\u001b[1;33m,\u001b[0m\u001b[1;33m\u001b[0m\u001b[1;33m\u001b[0m\u001b[0m\n\u001b[1;32m-> 1239\u001b[1;33m                                         validation_freq=validation_freq)\n\u001b[0m\u001b[0;32m   1240\u001b[0m \u001b[1;33m\u001b[0m\u001b[0m\n\u001b[0;32m   1241\u001b[0m     def evaluate(self,\n",
      "\u001b[1;32m~\\Anaconda3\\envs\\tensorflow\\lib\\site-packages\\keras\\engine\\training_arrays.py\u001b[0m in \u001b[0;36mfit_loop\u001b[1;34m(model, fit_function, fit_inputs, out_labels, batch_size, epochs, verbose, callbacks, val_function, val_inputs, shuffle, initial_epoch, steps_per_epoch, validation_steps, validation_freq)\u001b[0m\n\u001b[0;32m    194\u001b[0m                     \u001b[0mins_batch\u001b[0m\u001b[1;33m[\u001b[0m\u001b[0mi\u001b[0m\u001b[1;33m]\u001b[0m \u001b[1;33m=\u001b[0m \u001b[0mins_batch\u001b[0m\u001b[1;33m[\u001b[0m\u001b[0mi\u001b[0m\u001b[1;33m]\u001b[0m\u001b[1;33m.\u001b[0m\u001b[0mtoarray\u001b[0m\u001b[1;33m(\u001b[0m\u001b[1;33m)\u001b[0m\u001b[1;33m\u001b[0m\u001b[1;33m\u001b[0m\u001b[0m\n\u001b[0;32m    195\u001b[0m \u001b[1;33m\u001b[0m\u001b[0m\n\u001b[1;32m--> 196\u001b[1;33m                 \u001b[0mouts\u001b[0m \u001b[1;33m=\u001b[0m \u001b[0mfit_function\u001b[0m\u001b[1;33m(\u001b[0m\u001b[0mins_batch\u001b[0m\u001b[1;33m)\u001b[0m\u001b[1;33m\u001b[0m\u001b[1;33m\u001b[0m\u001b[0m\n\u001b[0m\u001b[0;32m    197\u001b[0m                 \u001b[0mouts\u001b[0m \u001b[1;33m=\u001b[0m \u001b[0mto_list\u001b[0m\u001b[1;33m(\u001b[0m\u001b[0mouts\u001b[0m\u001b[1;33m)\u001b[0m\u001b[1;33m\u001b[0m\u001b[1;33m\u001b[0m\u001b[0m\n\u001b[0;32m    198\u001b[0m                 \u001b[1;32mfor\u001b[0m \u001b[0ml\u001b[0m\u001b[1;33m,\u001b[0m \u001b[0mo\u001b[0m \u001b[1;32min\u001b[0m \u001b[0mzip\u001b[0m\u001b[1;33m(\u001b[0m\u001b[0mout_labels\u001b[0m\u001b[1;33m,\u001b[0m \u001b[0mouts\u001b[0m\u001b[1;33m)\u001b[0m\u001b[1;33m:\u001b[0m\u001b[1;33m\u001b[0m\u001b[1;33m\u001b[0m\u001b[0m\n",
      "\u001b[1;32m~\\Anaconda3\\envs\\tensorflow\\lib\\site-packages\\tensorflow\\python\\keras\\backend.py\u001b[0m in \u001b[0;36m__call__\u001b[1;34m(self, inputs)\u001b[0m\n\u001b[0;32m   3074\u001b[0m \u001b[1;33m\u001b[0m\u001b[0m\n\u001b[0;32m   3075\u001b[0m     fetched = self._callable_fn(*array_vals,\n\u001b[1;32m-> 3076\u001b[1;33m                                 run_metadata=self.run_metadata)\n\u001b[0m\u001b[0;32m   3077\u001b[0m     \u001b[0mself\u001b[0m\u001b[1;33m.\u001b[0m\u001b[0m_call_fetch_callbacks\u001b[0m\u001b[1;33m(\u001b[0m\u001b[0mfetched\u001b[0m\u001b[1;33m[\u001b[0m\u001b[1;33m-\u001b[0m\u001b[0mlen\u001b[0m\u001b[1;33m(\u001b[0m\u001b[0mself\u001b[0m\u001b[1;33m.\u001b[0m\u001b[0m_fetches\u001b[0m\u001b[1;33m)\u001b[0m\u001b[1;33m:\u001b[0m\u001b[1;33m]\u001b[0m\u001b[1;33m)\u001b[0m\u001b[1;33m\u001b[0m\u001b[1;33m\u001b[0m\u001b[0m\n\u001b[0;32m   3078\u001b[0m     return nest.pack_sequence_as(self._outputs_structure,\n",
      "\u001b[1;32m~\\Anaconda3\\envs\\tensorflow\\lib\\site-packages\\tensorflow\\python\\client\\session.py\u001b[0m in \u001b[0;36m__call__\u001b[1;34m(self, *args, **kwargs)\u001b[0m\n\u001b[0;32m   1437\u001b[0m           ret = tf_session.TF_SessionRunCallable(\n\u001b[0;32m   1438\u001b[0m               \u001b[0mself\u001b[0m\u001b[1;33m.\u001b[0m\u001b[0m_session\u001b[0m\u001b[1;33m.\u001b[0m\u001b[0m_session\u001b[0m\u001b[1;33m,\u001b[0m \u001b[0mself\u001b[0m\u001b[1;33m.\u001b[0m\u001b[0m_handle\u001b[0m\u001b[1;33m,\u001b[0m \u001b[0margs\u001b[0m\u001b[1;33m,\u001b[0m \u001b[0mstatus\u001b[0m\u001b[1;33m,\u001b[0m\u001b[1;33m\u001b[0m\u001b[1;33m\u001b[0m\u001b[0m\n\u001b[1;32m-> 1439\u001b[1;33m               run_metadata_ptr)\n\u001b[0m\u001b[0;32m   1440\u001b[0m         \u001b[1;32mif\u001b[0m \u001b[0mrun_metadata\u001b[0m\u001b[1;33m:\u001b[0m\u001b[1;33m\u001b[0m\u001b[1;33m\u001b[0m\u001b[0m\n\u001b[0;32m   1441\u001b[0m           \u001b[0mproto_data\u001b[0m \u001b[1;33m=\u001b[0m \u001b[0mtf_session\u001b[0m\u001b[1;33m.\u001b[0m\u001b[0mTF_GetBuffer\u001b[0m\u001b[1;33m(\u001b[0m\u001b[0mrun_metadata_ptr\u001b[0m\u001b[1;33m)\u001b[0m\u001b[1;33m\u001b[0m\u001b[1;33m\u001b[0m\u001b[0m\n",
      "\u001b[1;31mKeyboardInterrupt\u001b[0m: "
     ]
    }
   ],
   "source": [
    "batch_size = 128\n",
    "epochs = 10\n",
    "history = model2.fit(train_images_part, \n",
    "                    train_labels_part, \n",
    "                    batch_size = batch_size, \n",
    "                    epochs=epochs, \n",
    "                    validation_data=(val_x, val_y))\n",
    "\n",
    "test_loss, test_acc = model2.evaluate(test_images_part, test_labels_part)\n",
    "print('test_loss:{}, test_acc:{}'.format(test_loss, test_acc))"
   ]
  },
  {
   "cell_type": "code",
   "execution_count": 10,
   "metadata": {},
   "outputs": [
    {
     "data": {
      "image/png": "[encoded data removed]",
      "text/plain": [
       "<Figure size 432x288 with 1 Axes>"
      ]
     },
     "metadata": {
      "needs_background": "light"
     },
     "output_type": "display_data"
    }
   ],
   "source": [
    "import matplotlib.pyplot as plt\n",
    "history_dict = history.history\n",
    "loss_values = history_dict['loss']\n",
    "val_loss_values = history_dict['val_loss']\n",
    "epochs = range(1, len(loss_values) + 1)\n",
    "plt.plot(epochs, loss_values, 'bo', label='Training loss')\n",
    "plt.plot(epochs, val_loss_values, 'b', label='Validation loss')\n",
    "plt.title('Training and validation loss')\n",
    "plt.xlabel('Epochs')\n",
    "plt.ylabel('Loss')\n",
    "plt.legend()\n",
    "plt.show()"
   ]
  },
  {
   "cell_type": "markdown",
   "metadata": {},
   "source": [
    "## 卷积可视化测试"
   ]
  },
  {
   "cell_type": "code",
   "execution_count": 67,
   "metadata": {},
   "outputs": [
    {
     "name": "stdout",
     "output_type": "stream",
     "text": [
      "Model: \"model_11\"\n",
      "_________________________________________________________________\n",
      "Layer (type)                 Output Shape              Param #   \n",
      "=================================================================\n",
      "input_7 (InputLayer)         (None, 28, 28, 1)         0         \n",
      "_________________________________________________________________\n",
      "conv2d_36 (Conv2D)           (None, 26, 26, 32)        320       \n",
      "_________________________________________________________________\n",
      "conv2d_37 (Conv2D)           (None, 24, 24, 32)        9248      \n",
      "_________________________________________________________________\n",
      "pool1 (MaxPooling2D)         (None, 12, 12, 32)        0         \n",
      "_________________________________________________________________\n",
      "conv2d_38 (Conv2D)           (None, 10, 10, 64)        18496     \n",
      "_________________________________________________________________\n",
      "conv2d_39 (Conv2D)           (None, 8, 8, 64)          36928     \n",
      "_________________________________________________________________\n",
      "pool2 (MaxPooling2D)         (None, 4, 4, 64)          0         \n",
      "_________________________________________________________________\n",
      "flatten_7 (Flatten)          (None, 1024)              0         \n",
      "_________________________________________________________________\n",
      "dense_14 (Dense)             (None, 32)                32800     \n",
      "_________________________________________________________________\n",
      "dropout_7 (Dropout)          (None, 32)                0         \n",
      "_________________________________________________________________\n",
      "dense_15 (Dense)             (None, 10)                330       \n",
      "=================================================================\n",
      "Total params: 98,122\n",
      "Trainable params: 98,122\n",
      "Non-trainable params: 0\n",
      "_________________________________________________________________\n"
     ]
    }
   ],
   "source": [
    "from keras.layers import Input\n",
    "from keras.models import Model\n",
    "mnist_input = Input(shape=(28,28,1))\n",
    "x = Conv2D(32,(3,3),activation='relu')(mnist_input)\n",
    "x = Conv2D(32,(3,3), activation='relu')(x)\n",
    "pool1 = MaxPooling2D((2,2),name='pool1')(x)\n",
    "\n",
    "x = Conv2D(64,(3,3),activation='relu')(pool1)\n",
    "x = Conv2D(64,(3,3),activation='relu')(x)\n",
    "pool2 = MaxPooling2D((2,2),name = 'pool2')(x)\n",
    "\n",
    "x = Flatten()(pool2)\n",
    "x = Dense(32, activation='relu')(x)\n",
    "x = Dropout(0.4)(x)\n",
    "output = Dense(10, activation='softmax')(x)\n",
    "\n",
    "model_full = Model(inputs=mnist_input,outputs = output)\n",
    "model_full.compile(loss=\"categorical_crossentropy\",optimizer=Adam(),metrics=['accuracy'])\n",
    "model_full.summary()"
   ]
  },
  {
   "cell_type": "code",
   "execution_count": 73,
   "metadata": {},
   "outputs": [
    {
     "data": {
      "text/plain": [
       "'pool1'"
      ]
     },
     "execution_count": 73,
     "metadata": {},
     "output_type": "execute_result"
    }
   ],
   "source": [
    "model_full.get_layer(index=3).name"
   ]
  },
  {
   "cell_type": "code",
   "execution_count": 41,
   "metadata": {},
   "outputs": [
    {
     "name": "stdout",
     "output_type": "stream",
     "text": [
      "Train on 50000 samples, validate on 10000 samples\n",
      "Epoch 1/10\n",
      "50000/50000 [==============================] - 10s 205us/step - loss: 0.5048 - accuracy: 0.8346 - val_loss: 0.0731 - val_accuracy: 0.9780\n",
      "Epoch 2/10\n",
      "50000/50000 [==============================] - 10s 192us/step - loss: 0.1723 - accuracy: 0.9455 - val_loss: 0.0472 - val_accuracy: 0.9870\n",
      "Epoch 3/10\n",
      "50000/50000 [==============================] - 10s 193us/step - loss: 0.1252 - accuracy: 0.9601 - val_loss: 0.0440 - val_accuracy: 0.9890\n",
      "Epoch 4/10\n",
      "50000/50000 [==============================] - 10s 192us/step - loss: 0.0915 - accuracy: 0.9712 - val_loss: 0.0458 - val_accuracy: 0.9887\n",
      "Epoch 5/10\n",
      "50000/50000 [==============================] - 10s 195us/step - loss: 0.0803 - accuracy: 0.9744 - val_loss: 0.0362 - val_accuracy: 0.9920\n",
      "Epoch 6/10\n",
      "50000/50000 [==============================] - 10s 193us/step - loss: 0.0684 - accuracy: 0.9782 - val_loss: 0.0374 - val_accuracy: 0.9906\n",
      "Epoch 7/10\n",
      "50000/50000 [==============================] - 10s 194us/step - loss: 0.0582 - accuracy: 0.9813 - val_loss: 0.0383 - val_accuracy: 0.9911\n",
      "Epoch 8/10\n",
      "50000/50000 [==============================] - 10s 194us/step - loss: 0.0565 - accuracy: 0.9815 - val_loss: 0.0373 - val_accuracy: 0.9915\n",
      "Epoch 9/10\n",
      "50000/50000 [==============================] - 10s 196us/step - loss: 0.0478 - accuracy: 0.9841 - val_loss: 0.0336 - val_accuracy: 0.9920\n",
      "Epoch 10/10\n",
      "50000/50000 [==============================] - 10s 194us/step - loss: 0.0432 - accuracy: 0.9862 - val_loss: 0.0409 - val_accuracy: 0.9908\n"
     ]
    }
   ],
   "source": [
    "batch_size = 128\n",
    "epochs = 10\n",
    "history = model_full.fit(train_images_part, \n",
    "                    train_labels_part, \n",
    "                    batch_size = batch_size, \n",
    "                    epochs=epochs, \n",
    "                    validation_data=(val_x, val_y))\n"
   ]
  },
  {
   "cell_type": "code",
   "execution_count": 94,
   "metadata": {},
   "outputs": [
    {
     "name": "stdout",
     "output_type": "stream",
     "text": [
      "10000/10000 [==============================] - 2s 164us/step\n",
      "test_loss:2.3119103340148928, test_acc:0.0860000029206276\n"
     ]
    }
   ],
   "source": [
    "test_loss, test_acc = model_full.evaluate(test_images_part, test_labels_part)\n",
    "print('test_loss:{}, test_acc:{}'.format(test_loss, test_acc))"
   ]
  },
  {
   "cell_type": "code",
   "execution_count": 92,
   "metadata": {},
   "outputs": [
    {
     "data": {
      "text/plain": [
       "(array([[0.10505511, 0.0947281 , 0.10313794, 0.10262601, 0.09904749,\n",
       "         0.10993163, 0.09509514, 0.09285627, 0.10077466, 0.09674766]],\n",
       "       dtype=float32), 5)"
      ]
     },
     "execution_count": 92,
     "metadata": {},
     "output_type": "execute_result"
    }
   ],
   "source": [
    "import numpy as np\n",
    "\n",
    "img = train_images_part[2]\n",
    "# print(x.shape)\n",
    "x = np.expand_dims(img, axis=0)\n",
    "# x = preprocess_input(x)\n",
    "\n",
    "y_pred = model_full.predict(x)\n",
    "value = np.argmax(y_pred)\n",
    "y_pred, value"
   ]
  },
  {
   "cell_type": "code",
   "execution_count": 93,
   "metadata": {
    "scrolled": false
   },
   "outputs": [
    {
     "data": {
      "text/plain": [
       "Text(0.5, 1.0, 'The img of newData')"
      ]
     },
     "execution_count": 93,
     "metadata": {},
     "output_type": "execute_result"
    },
    {
     "data": {
      "image/png": "[encoded data removed]",
      "text/plain": [
       "<Figure size 432x288 with 1 Axes>"
      ]
     },
     "metadata": {
      "needs_background": "light"
     },
     "output_type": "display_data"
    }
   ],
   "source": [
    "import matplotlib.pyplot as plt\n",
    "%matplotlib inline\n",
    "newData = np.reshape(img,(28,28))\n",
    "plt.imshow(newData)\n",
    "plt.title(\"The img of newData\")"
   ]
  },
  {
   "cell_type": "markdown",
   "metadata": {},
   "source": [
    "### pool1"
   ]
  },
  {
   "cell_type": "code",
   "execution_count": 54,
   "metadata": {},
   "outputs": [
    {
     "name": "stdout",
     "output_type": "stream",
     "text": [
      "Model: \"model_7\"\n",
      "_________________________________________________________________\n",
      "Layer (type)                 Output Shape              Param #   \n",
      "=================================================================\n",
      "input_5 (InputLayer)         (None, 28, 28, 1)         0         \n",
      "_________________________________________________________________\n",
      "conv2d_28 (Conv2D)           (None, 26, 26, 32)        320       \n",
      "_________________________________________________________________\n",
      "conv2d_29 (Conv2D)           (None, 24, 24, 32)        9248      \n",
      "_________________________________________________________________\n",
      "max_pooling2d_14 (MaxPooling (None, 12, 12, 32)        0         \n",
      "=================================================================\n",
      "Total params: 9,568\n",
      "Trainable params: 9,568\n",
      "Non-trainable params: 0\n",
      "_________________________________________________________________\n"
     ]
    }
   ],
   "source": [
    "model_conv = Model(inputs=mnist_input, outputs = pool1)\n",
    "# model_conv.compile(loss=\"categorical_crossentropy\",optimizer=Adam(),metrics=['accuracy'])\n",
    "model_conv.summary()"
   ]
  },
  {
   "cell_type": "code",
   "execution_count": 59,
   "metadata": {},
   "outputs": [
    {
     "data": {
      "text/plain": [
       "<matplotlib.image.AxesImage at 0x19dcf6c0588>"
      ]
     },
     "execution_count": 59,
     "metadata": {},
     "output_type": "execute_result"
    },
    {
     "data": {
      "image/png": "[encoded data removed]",
      "text/plain": [
       "<Figure size 432x288 with 1 Axes>"
      ]
     },
     "metadata": {
      "needs_background": "light"
     },
     "output_type": "display_data"
    }
   ],
   "source": [
    "y_conv = model_conv.predict(x)\n",
    "y_conv = np.sum(y_conv,axis=-1)\n",
    "y_conv = np.reshape(y_conv,(12,12))\n",
    "y_conv.shape\n",
    "plt.imshow(y_conv)"
   ]
  },
  {
   "cell_type": "markdown",
   "metadata": {},
   "source": [
    "### pool1下面的卷积层"
   ]
  },
  {
   "cell_type": "code",
   "execution_count": 87,
   "metadata": {},
   "outputs": [
    {
     "name": "stdout",
     "output_type": "stream",
     "text": [
      "Model: \"model_22\"\n",
      "_________________________________________________________________\n",
      "Layer (type)                 Output Shape              Param #   \n",
      "=================================================================\n",
      "input_7 (InputLayer)         (None, 28, 28, 1)         0         \n",
      "_________________________________________________________________\n",
      "conv2d_36 (Conv2D)           (None, 26, 26, 32)        320       \n",
      "_________________________________________________________________\n",
      "conv2d_37 (Conv2D)           (None, 24, 24, 32)        9248      \n",
      "_________________________________________________________________\n",
      "pool1 (MaxPooling2D)         (None, 12, 12, 32)        0         \n",
      "_________________________________________________________________\n",
      "conv2d_38 (Conv2D)           (None, 10, 10, 64)        18496     \n",
      "=================================================================\n",
      "Total params: 28,064\n",
      "Trainable params: 28,064\n",
      "Non-trainable params: 0\n",
      "_________________________________________________________________\n"
     ]
    },
    {
     "data": {
      "text/plain": [
       "<matplotlib.image.AxesImage at 0x19dd16007b8>"
      ]
     },
     "execution_count": 87,
     "metadata": {},
     "output_type": "execute_result"
    },
    {
     "data": {
      "image/png": "[encoded data removed]",
      "text/plain": [
       "<Figure size 432x288 with 1 Axes>"
      ]
     },
     "metadata": {
      "needs_background": "light"
     },
     "output_type": "display_data"
    }
   ],
   "source": [
    "model3 = Model(inputs = mnist_input, outputs = model_full.get_layer(index=4).output)\n",
    "model3.summary()\n",
    "p3 = model3.predict(x)\n",
    "p3 = np.sum(p3,axis=-1)\n",
    "p3.shape\n",
    "p3 = np.reshape(p3,(10, 10))\n",
    "plt.imshow(p3)"
   ]
  },
  {
   "cell_type": "markdown",
   "metadata": {},
   "source": [
    "### pool1下面第二个卷积层"
   ]
  },
  {
   "cell_type": "code",
   "execution_count": 91,
   "metadata": {},
   "outputs": [
    {
     "name": "stdout",
     "output_type": "stream",
     "text": [
      "Model: \"model_26\"\n",
      "_________________________________________________________________\n",
      "Layer (type)                 Output Shape              Param #   \n",
      "=================================================================\n",
      "input_7 (InputLayer)         (None, 28, 28, 1)         0         \n",
      "_________________________________________________________________\n",
      "conv2d_36 (Conv2D)           (None, 26, 26, 32)        320       \n",
      "_________________________________________________________________\n",
      "conv2d_37 (Conv2D)           (None, 24, 24, 32)        9248      \n",
      "_________________________________________________________________\n",
      "pool1 (MaxPooling2D)         (None, 12, 12, 32)        0         \n",
      "_________________________________________________________________\n",
      "conv2d_38 (Conv2D)           (None, 10, 10, 64)        18496     \n",
      "_________________________________________________________________\n",
      "conv2d_39 (Conv2D)           (None, 8, 8, 64)          36928     \n",
      "=================================================================\n",
      "Total params: 64,992\n",
      "Trainable params: 64,992\n",
      "Non-trainable params: 0\n",
      "_________________________________________________________________\n"
     ]
    },
    {
     "data": {
      "text/plain": [
       "<matplotlib.image.AxesImage at 0x19dd166d160>"
      ]
     },
     "execution_count": 91,
     "metadata": {},
     "output_type": "execute_result"
    },
    {
     "data": {
      "image/png": "[encoded data removed]",
      "text/plain": [
       "<Figure size 432x288 with 1 Axes>"
      ]
     },
     "metadata": {
      "needs_background": "light"
     },
     "output_type": "display_data"
    }
   ],
   "source": [
    "model4 = Model(inputs = mnist_input, outputs = model_full.get_layer(index=5).output)\n",
    "model4.summary()\n",
    "p4= model4.predict(x)\n",
    "p4 = np.sum(p4,axis=-1)\n",
    "\n",
    "p4 = np.reshape(p4,(p4.shape[-2], p4.shape[-1]))\n",
    "plt.imshow(p4)"
   ]
  },
  {
   "cell_type": "markdown",
   "metadata": {},
   "source": [
    "### pool2"
   ]
  },
  {
   "cell_type": "code",
   "execution_count": 81,
   "metadata": {},
   "outputs": [
    {
     "name": "stdout",
     "output_type": "stream",
     "text": [
      "Model: \"model_17\"\n",
      "_________________________________________________________________\n",
      "Layer (type)                 Output Shape              Param #   \n",
      "=================================================================\n",
      "input_7 (InputLayer)         (None, 28, 28, 1)         0         \n",
      "_________________________________________________________________\n",
      "conv2d_36 (Conv2D)           (None, 26, 26, 32)        320       \n",
      "_________________________________________________________________\n",
      "conv2d_37 (Conv2D)           (None, 24, 24, 32)        9248      \n",
      "_________________________________________________________________\n",
      "pool1 (MaxPooling2D)         (None, 12, 12, 32)        0         \n",
      "_________________________________________________________________\n",
      "conv2d_38 (Conv2D)           (None, 10, 10, 64)        18496     \n",
      "_________________________________________________________________\n",
      "conv2d_39 (Conv2D)           (None, 8, 8, 64)          36928     \n",
      "_________________________________________________________________\n",
      "pool2 (MaxPooling2D)         (None, 4, 4, 64)          0         \n",
      "=================================================================\n",
      "Total params: 64,992\n",
      "Trainable params: 64,992\n",
      "Non-trainable params: 0\n",
      "_________________________________________________________________\n"
     ]
    }
   ],
   "source": [
    "model_conv2 = Model(inputs= mnist_input, outputs = pool2)\n",
    "model_conv2.summary()"
   ]
  },
  {
   "cell_type": "code",
   "execution_count": 82,
   "metadata": {},
   "outputs": [
    {
     "data": {
      "text/plain": [
       "<matplotlib.image.AxesImage at 0x19dd14cdba8>"
      ]
     },
     "execution_count": 82,
     "metadata": {},
     "output_type": "execute_result"
    },
    {
     "data": {
      "image/png": "[encoded data removed]",
      "text/plain": [
       "<Figure size 432x288 with 1 Axes>"
      ]
     },
     "metadata": {
      "needs_background": "light"
     },
     "output_type": "display_data"
    }
   ],
   "source": [
    "y_conv2 = model_conv2.predict(x)\n",
    "y_conv2 = np.sum(y_conv2,axis=-1)\n",
    "y_conv2 = np.reshape(y_conv2,(4,4))\n",
    "y_conv2.shape\n",
    "\n",
    "plt.imshow(y_conv2)"
   ]
  }
 ],
 "metadata": {
  "kernelspec": {
   "display_name": "Python (tensorflow)",
   "language": "python",
   "name": "tensorflow"
  },
  "language_info": {
   "codemirror_mode": {
    "name": "ipython",
    "version": 3
   },
   "file_extension": ".py",
   "mimetype": "text/x-python",
   "name": "python",
   "nbconvert_exporter": "python",
   "pygments_lexer": "ipython3",
   "version": "3.7.3"
  }
 },
 "nbformat": 4,
 "nbformat_minor": 2
}
