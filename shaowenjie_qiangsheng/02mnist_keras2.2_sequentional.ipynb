{
 "cells": [
  {
   "cell_type": "code",
   "execution_count": 3,
   "metadata": {},
   "outputs": [
    {
     "name": "stdout",
     "output_type": "stream",
     "text": [
      "(60000, 28, 28)\n",
      "(10000, 28, 28)\n",
      "(10000,)\n"
     ]
    }
   ],
   "source": [
    "from keras.datasets import mnist\n",
    "(train_images, train_labels), (test_images, test_labels) = mnist.load_data()\n",
    "print(train_images.shape)\n",
    "print(test_images.shape)\n",
    "print(test_labels.shape)"
   ]
  },
  {
   "cell_type": "code",
   "execution_count": 2,
   "metadata": {},
   "outputs": [
    {
     "data": {
      "text/plain": [
       "'2.2.4'"
      ]
     },
     "execution_count": 2,
     "metadata": {},
     "output_type": "execute_result"
    }
   ],
   "source": [
    "import keras\n",
    "keras.__version__"
   ]
  },
  {
   "cell_type": "code",
   "execution_count": 4,
   "metadata": {},
   "outputs": [
    {
     "name": "stdout",
     "output_type": "stream",
     "text": [
      "(50000, 784)\n",
      "(10000, 784)\n",
      "(10000,)\n"
     ]
    }
   ],
   "source": [
    "# 提取部分数据进行训练和测试\n",
    "# 训练数据\n",
    "train_images_part = train_images[:50000].reshape((50000, 28*28))\n",
    "train_images_part = train_images_part.astype('float32') / 255\n",
    "train_labels_part = train_labels[:50000]\n",
    "print(train_images_part.shape)\n",
    "# 验证数据\n",
    "val_x = train_images[-10000:].reshape((10000, 28*28))\n",
    "val_x = val_x.astype('float32') / 255\n",
    "val_y = train_labels[-10000:]\n",
    "print(val_x.shape)\n",
    "# 测试数据\n",
    "test_images_part = test_images[:10000].reshape((10000, 28 * 28))\n",
    "test_images_part = test_images_part.astype('float32') / 255\n",
    "test_labels_part = test_labels[:10000]\n",
    "print(test_labels_part.shape)"
   ]
  },
  {
   "cell_type": "code",
   "execution_count": 5,
   "metadata": {},
   "outputs": [
    {
     "name": "stdout",
     "output_type": "stream",
     "text": [
      "(10000, 10)\n"
     ]
    },
    {
     "data": {
      "text/plain": [
       "(10000,)"
      ]
     },
     "execution_count": 5,
     "metadata": {},
     "output_type": "execute_result"
    }
   ],
   "source": [
    "# 处理标签（对标签进行分类编码）\n",
    "from keras.utils import to_categorical\n",
    "train_labels_part = to_categorical(train_labels_part)\n",
    "val_y = to_categorical(val_y)\n",
    "print(val_y.shape)\n",
    "test_labels_part = to_categorical(test_labels_part)\n",
    "test_labels.shape"
   ]
  },
  {
   "cell_type": "code",
   "execution_count": 19,
   "metadata": {},
   "outputs": [],
   "source": [
    "# 构建模型\n",
    "from keras import models, layers, optimizers\n",
    "\n",
    "model = models.Sequential()\n",
    "model.add(layers.Dense(256, activation = 'relu', input_shape=(28*28, )))\n",
    "# model.add(layers.Dropout(0.4))\n",
    "model.add(layers.Dense(10, activation= 'softmax'))\n",
    "\n",
    "# model = models.Sequential()\n",
    "# model.add(layers.Dropout(0.2, input_shape=(28*28,)))\n",
    "# model.add(layers.Dense(512,activation='relu'))\n",
    "# model.add(layers.Dense(10, activation='softmax'))\n"
   ]
  },
  {
   "cell_type": "code",
   "execution_count": 20,
   "metadata": {},
   "outputs": [
    {
     "name": "stdout",
     "output_type": "stream",
     "text": [
      "_________________________________________________________________\n",
      "Layer (type)                 Output Shape              Param #   \n",
      "=================================================================\n",
      "dense_9 (Dense)              (None, 256)               200960    \n",
      "_________________________________________________________________\n",
      "dropout_3 (Dropout)          (None, 256)               0         \n",
      "_________________________________________________________________\n",
      "dense_10 (Dense)             (None, 10)                2570      \n",
      "=================================================================\n",
      "Total params: 203,530\n",
      "Trainable params: 203,530\n",
      "Non-trainable params: 0\n",
      "_________________________________________________________________\n"
     ]
    }
   ],
   "source": [
    "model.compile(optimizer=\n",
    "              optimizers.Adam(lr=0.001, \n",
    "              beta_1=0.9, \n",
    "              beta_2=0.999, \n",
    "              epsilon=None, \n",
    "              decay=0.0, \n",
    "              amsgrad=False),\n",
    "              loss='categorical_crossentropy',\n",
    "              metrics=['accuracy'])\n",
    "model.summary()"
   ]
  },
  {
   "cell_type": "code",
   "execution_count": 21,
   "metadata": {},
   "outputs": [
    {
     "name": "stdout",
     "output_type": "stream",
     "text": [
      "Train on 50000 samples, validate on 10000 samples\n",
      "Epoch 1/10\n",
      "50000/50000 [==============================] - 3s 64us/step - loss: 0.3700 - acc: 0.8921 - val_loss: 0.1658 - val_acc: 0.9557\n",
      "Epoch 2/10\n",
      "50000/50000 [==============================] - 3s 50us/step - loss: 0.1671 - acc: 0.9519 - val_loss: 0.1213 - val_acc: 0.9657\n",
      "Epoch 3/10\n",
      "50000/50000 [==============================] - 2s 49us/step - loss: 0.1202 - acc: 0.9647 - val_loss: 0.0987 - val_acc: 0.9712\n",
      "Epoch 4/10\n",
      "50000/50000 [==============================] - 2s 49us/step - loss: 0.0946 - acc: 0.9722 - val_loss: 0.0849 - val_acc: 0.9743\n",
      "Epoch 5/10\n",
      "50000/50000 [==============================] - 2s 49us/step - loss: 0.0770 - acc: 0.9770 - val_loss: 0.0839 - val_acc: 0.9755\n",
      "Epoch 6/10\n",
      "50000/50000 [==============================] - 3s 54us/step - loss: 0.0646 - acc: 0.9814 - val_loss: 0.0746 - val_acc: 0.9784\n",
      "Epoch 7/10\n",
      "50000/50000 [==============================] - 3s 65us/step - loss: 0.0560 - acc: 0.9837 - val_loss: 0.0752 - val_acc: 0.9776\n",
      "Epoch 8/10\n",
      "50000/50000 [==============================] - 3s 60us/step - loss: 0.0470 - acc: 0.9855 - val_loss: 0.0728 - val_acc: 0.9771\n",
      "Epoch 9/10\n",
      "50000/50000 [==============================] - 2s 49us/step - loss: 0.0419 - acc: 0.9874 - val_loss: 0.0642 - val_acc: 0.9811\n",
      "Epoch 10/10\n",
      "50000/50000 [==============================] - 3s 63us/step - loss: 0.0354 - acc: 0.9900 - val_loss: 0.0686 - val_acc: 0.9804\n"
     ]
    }
   ],
   "source": [
    "# 开始训练\n",
    "batch_size = 128\n",
    "epochs = 20\n",
    "history = model.fit(train_images_part, train_labels_part, batch_size = batch_size, epochs=epochs, validation_data=(val_x, val_y))"
   ]
  },
  {
   "cell_type": "code",
   "execution_count": 22,
   "metadata": {},
   "outputs": [
    {
     "name": "stdout",
     "output_type": "stream",
     "text": [
      "10000/10000 [==============================] - 1s 74us/step\n",
      "test_loss:0.06520638863877393, test_acc:0.9799\n"
     ]
    }
   ],
   "source": [
    "test_loss, test_acc = model.evaluate(test_images_part, test_labels_part)\n",
    "print('test_loss:{}, test_acc:{}'.format(test_loss, test_acc))"
   ]
  },
  {
   "cell_type": "code",
   "execution_count": 23,
   "metadata": {},
   "outputs": [
    {
     "data": {
      "image/png": "[encoded data removed]",
      "text/plain": [
       "<Figure size 432x288 with 1 Axes>"
      ]
     },
     "metadata": {
      "needs_background": "light"
     },
     "output_type": "display_data"
    }
   ],
   "source": [
    "%matplotlib inline\n",
    "import matplotlib.pyplot as plt\n",
    "history_dict = history.history\n",
    "loss_values = history_dict['loss']\n",
    "val_loss_values = history_dict['val_loss']\n",
    "epochs = range(1, len(loss_values) + 1)\n",
    "plt.plot(epochs, loss_values, 'bo', label='Training loss')\n",
    "plt.plot(epochs, val_loss_values, 'b', label='Validation loss')\n",
    "plt.title('Training and validation loss')\n",
    "plt.xlabel('Epochs')\n",
    "plt.ylabel('Loss')\n",
    "plt.legend()\n",
    "plt.show()"
   ]
  },
  {
   "cell_type": "markdown",
   "metadata": {},
   "source": [
    "### 构建一个新的模型，该模型具有dropout、正则化或者BN"
   ]
  },
  {
   "cell_type": "code",
   "execution_count": 14,
   "metadata": {},
   "outputs": [
    {
     "name": "stdout",
     "output_type": "stream",
     "text": [
      "_________________________________________________________________\n",
      "Layer (type)                 Output Shape              Param #   \n",
      "=================================================================\n",
      "dense_7 (Dense)              (None, 256)               200960    \n",
      "_________________________________________________________________\n",
      "dense_8 (Dense)              (None, 64)                16448     \n",
      "_________________________________________________________________\n",
      "dense_9 (Dense)              (None, 10)                650       \n",
      "=================================================================\n",
      "Total params: 218,058\n",
      "Trainable params: 218,058\n",
      "Non-trainable params: 0\n",
      "_________________________________________________________________\n"
     ]
    }
   ],
   "source": [
    "# 构建新模型\n",
    "from keras import models\n",
    "from keras import layers\n",
    "from keras import regularizers\n",
    "\n",
    "model = models.Sequential()\n",
    "model.add(layers.Dense(256, activation = 'relu', kernel_regularizer=regularizers.l2(0.001),input_shape=(28*28, )))\n",
    "# model.add(layers.Dropout(0.5))\n",
    "model.add(layers.Dense(64, activation = 'relu', kernel_regularizer=regularizers.l2(0.001)))\n",
    "model.add(layers.Dense(10, activation= 'softmax'))\n",
    "\n",
    "from keras import optimizers\n",
    "model.compile(optimizer=optimizers.Adam(lr=0.001, beta_1=0.9, beta_2=0.999, epsilon=None, decay=0.0, amsgrad=False),\n",
    "             loss='categorical_crossentropy',\n",
    "             metrics=['accuracy'])\n",
    "model.summary()"
   ]
  },
  {
   "cell_type": "code",
   "execution_count": 15,
   "metadata": {},
   "outputs": [
    {
     "name": "stdout",
     "output_type": "stream",
     "text": [
      "Train on 50000 samples, validate on 10000 samples\n",
      "Epoch 1/30\n",
      "50000/50000 [==============================] - 3s 59us/step - loss: 0.5921 - acc: 0.9065 - val_loss: 0.3605 - val_acc: 0.9577\n",
      "Epoch 2/30\n",
      "50000/50000 [==============================] - 2s 42us/step - loss: 0.3263 - acc: 0.9559 - val_loss: 0.2814 - val_acc: 0.9663\n",
      "Epoch 3/30\n",
      "50000/50000 [==============================] - 2s 42us/step - loss: 0.2629 - acc: 0.9661 - val_loss: 0.2372 - val_acc: 0.9717\n",
      "Epoch 4/30\n",
      "50000/50000 [==============================] - 2s 43us/step - loss: 0.2279 - acc: 0.9709 - val_loss: 0.2177 - val_acc: 0.9718\n",
      "Epoch 5/30\n",
      "50000/50000 [==============================] - 2s 44us/step - loss: 0.2083 - acc: 0.9736 - val_loss: 0.2231 - val_acc: 0.9678\n",
      "Epoch 6/30\n",
      "50000/50000 [==============================] - 2s 46us/step - loss: 0.1944 - acc: 0.9752 - val_loss: 0.1903 - val_acc: 0.9751\n",
      "Epoch 7/30\n",
      "50000/50000 [==============================] - 2s 43us/step - loss: 0.1873 - acc: 0.9746 - val_loss: 0.1951 - val_acc: 0.9737\n",
      "Epoch 8/30\n",
      "50000/50000 [==============================] - 2s 45us/step - loss: 0.1760 - acc: 0.9777 - val_loss: 0.1841 - val_acc: 0.9759\n",
      "Epoch 9/30\n",
      "50000/50000 [==============================] - 2s 46us/step - loss: 0.1715 - acc: 0.9777 - val_loss: 0.1853 - val_acc: 0.9736\n",
      "Epoch 10/30\n",
      "50000/50000 [==============================] - 2s 47us/step - loss: 0.1619 - acc: 0.9801 - val_loss: 0.1882 - val_acc: 0.9712\n",
      "Epoch 11/30\n",
      "50000/50000 [==============================] - 2s 45us/step - loss: 0.1591 - acc: 0.9796 - val_loss: 0.1725 - val_acc: 0.9746\n",
      "Epoch 12/30\n",
      "50000/50000 [==============================] - 2s 48us/step - loss: 0.1562 - acc: 0.9801 - val_loss: 0.1680 - val_acc: 0.9748\n",
      "Epoch 13/30\n",
      "50000/50000 [==============================] - 2s 49us/step - loss: 0.1508 - acc: 0.9809 - val_loss: 0.1689 - val_acc: 0.9750\n",
      "Epoch 14/30\n",
      "50000/50000 [==============================] - 2s 43us/step - loss: 0.1453 - acc: 0.9824 - val_loss: 0.1609 - val_acc: 0.9760\n",
      "Epoch 15/30\n",
      "50000/50000 [==============================] - 2s 44us/step - loss: 0.1426 - acc: 0.9817 - val_loss: 0.1567 - val_acc: 0.9779\n",
      "Epoch 16/30\n",
      "50000/50000 [==============================] - 2s 44us/step - loss: 0.1385 - acc: 0.9830 - val_loss: 0.1539 - val_acc: 0.9785\n",
      "Epoch 17/30\n",
      "50000/50000 [==============================] - 2s 46us/step - loss: 0.1358 - acc: 0.9830 - val_loss: 0.1602 - val_acc: 0.9746\n",
      "Epoch 18/30\n",
      "50000/50000 [==============================] - 2s 43us/step - loss: 0.1326 - acc: 0.9837 - val_loss: 0.1534 - val_acc: 0.9780\n",
      "Epoch 19/30\n",
      "50000/50000 [==============================] - 2s 44us/step - loss: 0.1315 - acc: 0.9831 - val_loss: 0.1571 - val_acc: 0.9753\n",
      "Epoch 20/30\n",
      "50000/50000 [==============================] - 2s 45us/step - loss: 0.1306 - acc: 0.9835 - val_loss: 0.1508 - val_acc: 0.9771\n",
      "Epoch 21/30\n",
      "50000/50000 [==============================] - 2s 44us/step - loss: 0.1282 - acc: 0.9841 - val_loss: 0.1532 - val_acc: 0.9754\n",
      "Epoch 22/30\n",
      "50000/50000 [==============================] - 2s 45us/step - loss: 0.1262 - acc: 0.9839 - val_loss: 0.1506 - val_acc: 0.9778\n",
      "Epoch 23/30\n",
      "50000/50000 [==============================] - 2s 44us/step - loss: 0.1226 - acc: 0.9852 - val_loss: 0.1475 - val_acc: 0.9789\n",
      "Epoch 24/30\n",
      "50000/50000 [==============================] - 2s 45us/step - loss: 0.1221 - acc: 0.9846 - val_loss: 0.1456 - val_acc: 0.9770\n",
      "Epoch 25/30\n",
      "50000/50000 [==============================] - 2s 46us/step - loss: 0.1199 - acc: 0.9854 - val_loss: 0.1512 - val_acc: 0.9744\n",
      "Epoch 26/30\n",
      "50000/50000 [==============================] - 2s 44us/step - loss: 0.1160 - acc: 0.9859 - val_loss: 0.1559 - val_acc: 0.9749\n",
      "Epoch 27/30\n",
      "50000/50000 [==============================] - 2s 44us/step - loss: 0.1163 - acc: 0.9856 - val_loss: 0.1471 - val_acc: 0.9749\n",
      "Epoch 28/30\n",
      "50000/50000 [==============================] - 2s 44us/step - loss: 0.1181 - acc: 0.9850 - val_loss: 0.1490 - val_acc: 0.9757\n",
      "Epoch 29/30\n",
      "50000/50000 [==============================] - 2s 45us/step - loss: 0.1147 - acc: 0.9858 - val_loss: 0.1373 - val_acc: 0.9780\n",
      "Epoch 30/30\n",
      "50000/50000 [==============================] - 2s 44us/step - loss: 0.1148 - acc: 0.9857 - val_loss: 0.1416 - val_acc: 0.9776\n"
     ]
    }
   ],
   "source": [
    "# 开始训练\n",
    "batch_size = 128\n",
    "epochs = 30\n",
    "history = model.fit(train_images_part, train_labels_part, batch_size = batch_size, epochs=epochs, validation_data=(val_x, val_y))"
   ]
  },
  {
   "cell_type": "code",
   "execution_count": 16,
   "metadata": {},
   "outputs": [
    {
     "name": "stdout",
     "output_type": "stream",
     "text": [
      "10000/10000 [==============================] - 0s 49us/step\n",
      "test_loss:0.13871247322559357, test_acc:0.9769\n"
     ]
    }
   ],
   "source": [
    "test_loss, test_acc = model.evaluate(test_images_part, test_labels_part)\n",
    "print('test_loss:{}, test_acc:{}'.format(test_loss, test_acc))"
   ]
  },
  {
   "cell_type": "code",
   "execution_count": 17,
   "metadata": {},
   "outputs": [
    {
     "data": {
      "image/png": "[encoded data removed]",
      "text/plain": [
       "<Figure size 432x288 with 1 Axes>"
      ]
     },
     "metadata": {
      "needs_background": "light"
     },
     "output_type": "display_data"
    }
   ],
   "source": [
    "import matplotlib.pyplot as plt\n",
    "history_dict = history.history\n",
    "loss_values = history_dict['loss']\n",
    "val_loss_values = history_dict['val_loss']\n",
    "epochs = range(1, len(loss_values) + 1)\n",
    "plt.plot(epochs, loss_values, 'bo', label='Training loss')\n",
    "plt.plot(epochs, val_loss_values, 'b', label='Validation loss')\n",
    "plt.title('Training and validation loss')\n",
    "plt.xlabel('Epochs')\n",
    "plt.ylabel('Loss')\n",
    "plt.legend()\n",
    "plt.show()"
   ]
  },
  {
   "cell_type": "code",
   "execution_count": null,
   "metadata": {},
   "outputs": [],
   "source": []
  }
 ],
 "metadata": {
  "kernelspec": {
   "display_name": "Python (tensorflow)",
   "language": "python",
   "name": "tensorflow"
  },
  "language_info": {
   "codemirror_mode": {
    "name": "ipython",
    "version": 3
   },
   "file_extension": ".py",
   "mimetype": "text/x-python",
   "name": "python",
   "nbconvert_exporter": "python",
   "pygments_lexer": "ipython3",
   "version": "3.7.3"
  }
 },
 "nbformat": 4,
 "nbformat_minor": 2
}
